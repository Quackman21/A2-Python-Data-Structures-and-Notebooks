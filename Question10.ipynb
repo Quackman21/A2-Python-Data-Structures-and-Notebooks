{
 "cells": [
  {
   "attachments": {},
   "cell_type": "markdown",
   "id": "4560770f-e8ee-46f8-b997-1e85f2bf15b7",
   "metadata": {},
   "source": [
    "Ivan Quackenbush: \n",
    "Git Hub Clickable link: https://github.com/Quackman21"
   ]
  },
  {
   "cell_type": "code",
   "execution_count": 4,
   "id": "f1af6eec-45d9-437b-8270-dd9acc584787",
   "metadata": {},
   "outputs": [
    {
     "name": "stdout",
     "output_type": "stream",
     "text": [
      "*      *\n",
      "**    **\n",
      "***  ***\n",
      "********\n"
     ]
    }
   ],
   "source": [
    "##(Create a new Jupyter Notebook (the name of the notebook should be your S number). Add a Markdown cell that contains your name. Add a Code cell and write Python that uses loops to draw the following pattern:\n",
    "  \n",
    "for i in range(1, 5):\n",
    "    for j in range(i):\n",
    "        print(\"*\", end=\"\")\n",
    "    for j in range(2 * (4 - i)):\n",
    "        print(\" \", end=\"\")\n",
    "    for j in range(i):\n",
    "        print(\"*\", end=\"\")\n",
    "    print()\n",
    "\n"
   ]
  }
 ],
 "metadata": {
  "kernelspec": {
   "display_name": "Python 3",
   "language": "python",
   "name": "python3"
  },
  "language_info": {
   "codemirror_mode": {
    "name": "ipython",
    "version": 3
   },
   "file_extension": ".py",
   "mimetype": "text/x-python",
   "name": "python",
   "nbconvert_exporter": "python",
   "pygments_lexer": "ipython3",
   "version": "3.7.13"
  }
 },
 "nbformat": 4,
 "nbformat_minor": 5
}
